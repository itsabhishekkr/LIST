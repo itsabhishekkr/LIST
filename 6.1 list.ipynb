{
 "cells": [
  {
   "cell_type": "markdown",
   "id": "e26033e3",
   "metadata": {},
   "source": [
    "# for list a.) gives size b.)put each elements"
   ]
  },
  {
   "cell_type": "code",
   "execution_count": 4,
   "id": "88aa5676",
   "metadata": {
    "scrolled": true
   },
   "outputs": [
    {
     "name": "stdout",
     "output_type": "stream",
     "text": [
      "enter kitna digit chahiye5\n",
      "enter no. in which s u put3\n",
      "enter no. in which s u put4\n",
      "enter no. in which s u put5\n",
      "enter no. in which s u put6\n",
      "enter no. in which s u put67\n",
      "enter no. in which s u put7\n",
      "[3, 4, 5, 6, 67, 7]\n"
     ]
    }
   ],
   "source": [
    "s=int(input(\"enter kitna digit chahiye\"))\n",
    "a=[]\n",
    "for i in range(0,s+1,1):\n",
    "    new=int(input(\"enter no. in which s u put\"))\n",
    "    a.append(new)\n",
    "print(a)\n",
    "    \n",
    "    "
   ]
  },
  {
   "cell_type": "code",
   "execution_count": 7,
   "id": "2f6724a7",
   "metadata": {
    "scrolled": false
   },
   "outputs": [
    {
     "name": "stdout",
     "output_type": "stream",
     "text": [
      "5\n",
      "4\n",
      "2\n",
      "5\n",
      "6\n",
      "7\n",
      "[4, 2, 5, 6, 7]\n"
     ]
    }
   ],
   "source": [
    "s=int(input())\n",
    "a=[]\n",
    "i=0\n",
    "while(i<=(s-1)):\n",
    "    new=int(input())\n",
    "    a.append(new)\n",
    "    i=i+1\n",
    "print(a)\n",
    "    \n",
    "    \n",
    "    "
   ]
  },
  {
   "cell_type": "markdown",
   "id": "1fab40d9",
   "metadata": {},
   "source": [
    "# split change string to list"
   ]
  },
  {
   "cell_type": "code",
   "execution_count": 14,
   "id": "dd7b00d3",
   "metadata": {
    "scrolled": true
   },
   "outputs": [
    {
     "name": "stdout",
     "output_type": "stream",
     "text": [
      "ENTER in maintain gap LINE3 a 5 6 u 8 \n",
      "[3, 'a', '5', '6', 'u', '8']\n"
     ]
    }
   ],
   "source": [
    "line=str(input('ENTER in maintain gap LINE'))\n",
    "l=line.split()\n",
    "l[0]=int(l[0])\n",
    "print(l)"
   ]
  },
  {
   "cell_type": "code",
   "execution_count": 16,
   "id": "971a15b6",
   "metadata": {},
   "outputs": [
    {
     "name": "stdout",
     "output_type": "stream",
     "text": [
      "4 5 6 7 8 \n",
      "['4', '5', '6', '7', '8']\n"
     ]
    }
   ],
   "source": [
    "line=str(input())\n",
    "l=line.split()\n",
    "print(l)"
   ]
  },
  {
   "cell_type": "code",
   "execution_count": 17,
   "id": "bd7f7035",
   "metadata": {},
   "outputs": [
    {
     "name": "stdout",
     "output_type": "stream",
     "text": [
      "['ram', 'is', 'going', 'to', 'patna', 'after', 'long', 'time']\n"
     ]
    }
   ],
   "source": [
    "l=\"ram is going to patna after long time\"\n",
    "print(l.split())\n"
   ]
  },
  {
   "cell_type": "markdown",
   "id": "b588b94f",
   "metadata": {},
   "source": [
    "\n"
   ]
  },
  {
   "cell_type": "code",
   "execution_count": 7,
   "id": "b4860e30",
   "metadata": {},
   "outputs": [
    {
     "name": "stdout",
     "output_type": "stream",
     "text": [
      "enter no,5\n",
      "which no. add in string3 \n",
      "which no. add in string4\n",
      "which no. add in string5\n",
      "which no. add in string6\n",
      "which no. add in string7\n",
      "[3, 4, 5, 6, 7]\n"
     ]
    }
   ],
   "source": [
    "m=int(input(\"enter no,\"))\n",
    "a=[]\n",
    "for i in range(0,m,1):#according to index\n",
    "    n=int(input(\"which no. add in string\"))\n",
    "    a.append(n)\n",
    "print(a)"
   ]
  },
  {
   "cell_type": "code",
   "execution_count": 8,
   "id": "54d40831",
   "metadata": {},
   "outputs": [
    {
     "name": "stdout",
     "output_type": "stream",
     "text": [
      "3 4 5 6 7\n",
      "['3', '4', '5', '6', '7']\n"
     ]
    }
   ],
   "source": [
    "line=input()\n",
    "l=line.split()\n",
    "print(l)"
   ]
  },
  {
   "cell_type": "code",
   "execution_count": 20,
   "id": "5d8e52e6",
   "metadata": {},
   "outputs": [
    {
     "name": "stdout",
     "output_type": "stream",
     "text": [
      "line3 5 6 7\n",
      "[3, 5, 6, 7]\n"
     ]
    }
   ],
   "source": [
    " line=input(\"line\")\n",
    "l=line.split()\n",
    "a=[]\n",
    "for i in l:#according to elements\n",
    "    a.append(int(i))\n",
    "print(a)\n",
    "         "
   ]
  },
  {
   "cell_type": "code",
   "execution_count": 23,
   "id": "a6859092",
   "metadata": {},
   "outputs": [
    {
     "name": "stdout",
     "output_type": "stream",
     "text": [
      "3 4 5 5\n",
      "[3, 4, 5, 5]\n"
     ]
    }
   ],
   "source": [
    "# a=input(\"line split\")\n",
    "# b=a.split()\n",
    "b=[int(i) for i in input().split()]\n",
    "print(b)\n"
   ]
  },
  {
   "cell_type": "code",
   "execution_count": 21,
   "id": "efd9c34f",
   "metadata": {},
   "outputs": [
    {
     "name": "stdout",
     "output_type": "stream",
     "text": [
      "line split2 34 5 6 \n",
      "[2, 34, 5, 6]\n"
     ]
    }
   ],
   "source": [
    "a=input(\"line split\")\n",
    "b=a.split()\n",
    "a=[int(i) for i in b]\n",
    "print(a)\n",
    "\n",
    "    "
   ]
  },
  {
   "cell_type": "markdown",
   "id": "74cdd467",
   "metadata": {},
   "source": [
    "# Q) find sum of even and odd number and difference from list"
   ]
  },
  {
   "cell_type": "code",
   "execution_count": 8,
   "id": "c936d8ae",
   "metadata": {},
   "outputs": [
    {
     "name": "stdout",
     "output_type": "stream",
     "text": [
      "3 4 5 6 78 8\n",
      "diff 88\n"
     ]
    }
   ],
   "source": [
    "l=input()\n",
    "m=l.split()\n",
    "size=len(m)\n",
    "sumeven=0\n",
    "sumodd=0\n",
    "\n",
    "for i in range(0,size,1):\n",
    "    if(int(m[i]) %2==0):\n",
    "        \n",
    "        sumeven= sumeven+ int(m[i])\n",
    "    else:\n",
    "        sumodd=sumodd+ int(m[i])\n",
    "if(sumeven-sumodd>=0):\n",
    "    \n",
    "    diff=sumeven-sumodd\n",
    "    print(\"diff\" ,diff)\n",
    "else:\n",
    "    diff=sumodd-sumeven\n",
    "    print(\"diff. of no.\",diff)\n",
    "\n",
    "\n",
    "\n",
    "    "
   ]
  },
  {
   "cell_type": "code",
   "execution_count": 17,
   "id": "6c56ba2e",
   "metadata": {},
   "outputs": [
    {
     "name": "stdout",
     "output_type": "stream",
     "text": [
      "2 3 4 5 6 7\n",
      "-3\n"
     ]
    }
   ],
   "source": [
    "l=[int(s) for s in input().split()]\n",
    "m=len(l)\n",
    "even=0\n",
    "odd=0\n",
    "for i in range(m):\n",
    "    if(int(l[i])%2 == 0):\n",
    "        even=even+int(l[i])\n",
    "    else:\n",
    "        odd=odd+int(l[i])\n",
    "print(even-odd)\n"
   ]
  },
  {
   "cell_type": "code",
   "execution_count": 20,
   "id": "db9a9652",
   "metadata": {},
   "outputs": [
    {
     "name": "stdout",
     "output_type": "stream",
     "text": [
      "2 3 4 6 7 8 89\n",
      "-79\n"
     ]
    }
   ],
   "source": [
    "m=input().split()\n",
    "even=0\n",
    "odd=0\n",
    "a=[]\n",
    "for i in m:\n",
    "    a.append(int(i))\n",
    "    if(int(i)%2==0):\n",
    "        even=even+int(i)\n",
    "    else:\n",
    "        odd=odd+int(i)\n",
    "print(even-odd)\n",
    "    "
   ]
  },
  {
   "cell_type": "code",
   "execution_count": 30,
   "id": "4c3a1f95",
   "metadata": {},
   "outputs": [
    {
     "name": "stdout",
     "output_type": "stream",
     "text": [
      "[2]\n",
      "[3]\n",
      "[2, 4]\n",
      "[3, 7]\n",
      "[2, 4, 8]\n",
      "[3, 7, 9]\n",
      "14\n",
      "19\n"
     ]
    }
   ],
   "source": [
    "a=[2,3,4,7,8,9]\n",
    "e=[]\n",
    "o=[]\n",
    "even=0\n",
    "odd=0\n",
    "for i in range(0,6,1):\n",
    "    if((a[i])%2==0):\n",
    "        e.append(a[i])\n",
    "        print(e)\n",
    "    else:\n",
    "        o.append(a[i])\n",
    "        print(o)\n",
    "for i in e:\n",
    "    even=even+i\n",
    "print(even)\n",
    "for i in o:\n",
    "    odd=odd+i\n",
    "print(odd)\n",
    "    \n",
    "        \n",
    "# print(sum(e))\n",
    "# print(sum(o))\n",
    "        \n",
    "\n",
    "\n",
    "        \n",
    "    \n",
    "    "
   ]
  },
  {
   "cell_type": "markdown",
   "id": "e7f28202",
   "metadata": {},
   "source": [
    "# slicing of lista"
   ]
  },
  {
   "cell_type": "code",
   "execution_count": 14,
   "id": "0ac04560",
   "metadata": {},
   "outputs": [
    {
     "name": "stdout",
     "output_type": "stream",
     "text": [
      "5\n",
      "[4, 5, 'ry']\n",
      "[2, 4, 5, 'ry']\n",
      "[4, 'ry']\n",
      "['ram']\n",
      "['ram']\n",
      "reverse  ['ram', 'ry', 5, 4, 2]\n",
      "['ram', 'ry', 5, 4, 2]\n"
     ]
    }
   ],
   "source": [
    "a=[2,4,5,\"ry\",\"ram\"]\n",
    "print(a[2])\n",
    "print(a[1:4])\n",
    "print(a[:4])\n",
    "print(a[1:4:2])\n",
    "print(a[10:3:-1])\n",
    "print(a[:3:-1])\n",
    "print(\"reverse \",a[::-1])\n",
    "##reverse function is used\n",
    "a.reverse()\n",
    "print(a)\n",
    "    "
   ]
  },
  {
   "cell_type": "markdown",
   "id": "5b6d766f",
   "metadata": {},
   "source": [
    "# multi - dimensional"
   ]
  },
  {
   "cell_type": "code",
   "execution_count": 19,
   "id": "a83f8fda",
   "metadata": {},
   "outputs": [
    {
     "name": "stdout",
     "output_type": "stream",
     "text": [
      "[1, 3, 4]\n",
      "4\n",
      "[[67], 2]\n",
      "[[67]]\n"
     ]
    }
   ],
   "source": [
    "a=[[1,3,4],[67],2]\n",
    "print(a[0])\n",
    "print(a[0][2])print(a[1:3])\n",
    "print(a[1:2])"
   ]
  },
  {
   "cell_type": "code",
   "execution_count": 25,
   "id": "fc930578",
   "metadata": {},
   "outputs": [
    {
     "name": "stdout",
     "output_type": "stream",
     "text": [
      "[0, 0, 0, 0, 0, 0, 0, 0, 0, 0]\n",
      "[2, 2, 2, 2, 2, 2, 2, 2, 2, 2]\n",
      "[[2, 4], [2, 4], [2, 4], [2, 4], [2, 4], [2, 4], [2, 4], [2, 4], [2, 4], [2, 4]]\n"
     ]
    }
   ],
   "source": [
    "a=[0 for i in range(10)]\n",
    "print(a)\n",
    "a=[2 for i in range(10)]\n",
    "print(a)\n",
    "a=[[2,4] for i in range(10)]\n",
    "print(a)\n"
   ]
  },
  {
   "cell_type": "markdown",
   "id": "8b5643ff",
   "metadata": {},
   "source": [
    "## insert through input using for loop"
   ]
  },
  {
   "cell_type": "code",
   "execution_count": 33,
   "id": "69e0fee4",
   "metadata": {},
   "outputs": [
    {
     "name": "stdout",
     "output_type": "stream",
     "text": [
      "[[0, 0, 0, 0, 0], [0, 0, 0, 0, 0], [0, 0, 0, 0, 0], [0, 0, 0, 0, 0], [0, 0, 0, 0, 0], [0, 0, 0, 0, 0], [0, 0, 0, 0, 0], [0, 0, 0, 0, 0], [0, 0, 0, 0, 0], [0, 0, 0, 0, 0]]\n"
     ]
    }
   ],
   "source": [
    "a=[[0 for j in range(5)] for i in range(10)]\n",
    "print(a)"
   ]
  },
  {
   "cell_type": "code",
   "execution_count": 35,
   "id": "573d6e10",
   "metadata": {},
   "outputs": [
    {
     "name": "stdout",
     "output_type": "stream",
     "text": [
      "[[0, 1, 2, 3, 4], [0, 1, 2, 3, 4], [0, 1, 2, 3, 4], [0, 1, 2, 3, 4], [0, 1, 2, 3, 4], [0, 1, 2, 3, 4], [0, 1, 2, 3, 4], [0, 1, 2, 3, 4], [0, 1, 2, 3, 4], [0, 1, 2, 3, 4]]\n"
     ]
    }
   ],
   "source": [
    "a=[[j for j in range(5)] for i in range(10)]\n",
    "print(a)"
   ]
  },
  {
   "cell_type": "code",
   "execution_count": 1,
   "id": "2db956ce",
   "metadata": {},
   "outputs": [
    {
     "name": "stdout",
     "output_type": "stream",
     "text": [
      "[[0, 0, 0, 0, 0], [1, 1, 1, 1, 1], [2, 2, 2, 2, 2], [3, 3, 3, 3, 3], [4, 4, 4, 4, 4], [5, 5, 5, 5, 5], [6, 6, 6, 6, 6], [7, 7, 7, 7, 7], [8, 8, 8, 8, 8], [9, 9, 9, 9, 9]]\n"
     ]
    }
   ],
   "source": [
    "a=[[i for j in range(5)] for i in range(10)]\n",
    "print(a)"
   ]
  },
  {
   "cell_type": "code",
   "execution_count": null,
   "id": "1e0c7933",
   "metadata": {},
   "outputs": [],
   "source": []
  },
  {
   "cell_type": "code",
   "execution_count": null,
   "id": "b1375d9b",
   "metadata": {},
   "outputs": [],
   "source": []
  }
 ],
 "metadata": {
  "kernelspec": {
   "display_name": "Python 3 (ipykernel)",
   "language": "python",
   "name": "python3"
  },
  "language_info": {
   "codemirror_mode": {
    "name": "ipython",
    "version": 3
   },
   "file_extension": ".py",
   "mimetype": "text/x-python",
   "name": "python",
   "nbconvert_exporter": "python",
   "pygments_lexer": "ipython3",
   "version": "3.10.9"
  }
 },
 "nbformat": 4,
 "nbformat_minor": 5
}
